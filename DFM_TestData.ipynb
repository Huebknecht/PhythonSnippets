{
 "cells": [
  {
   "cell_type": "code",
   "execution_count": 4,
   "id": "dc812a3e",
   "metadata": {},
   "outputs": [
    {
     "name": "stdout",
     "output_type": "stream",
     "text": [
      "Done\n"
     ]
    }
   ],
   "source": [
    "# DFM_TestData\n",
    " \n",
    "import datetime\n",
    "import numpy as np\n",
    "import os\n",
    "import pandas as pd\n",
    "from tkinter import *\n",
    "\n",
    " \n",
    "def addHundredYearsToDate(dateSeries):\n",
    "    dateSeries = pd.to_datetime(dateSeries, format='%d.%m.%Y').dt.date\n",
    "    aCalcDate = np.array(dateSeries)\n",
    "    for i in range(len(aCalcDate)):\n",
    "        if aCalcDate[i] < datetime.date(2000, 1, 1):\n",
    "            aCalcDate[i] = aCalcDate[i].replace(year=aCalcDate[i].year + 100)\n",
    "    return aCalcDate\n",
    " \n",
    "excel_filePath = \"/Users/e5527h6/Documents/Programming/data/GuV OCI Indikation/Cashflow_SST\"\n",
    "excel_fileName = \"Recon_DFM_2023-04-06.xlsx\"\n",
    "#excel_fileName = \"AdHoc_PODIUM_DFM_2023-03-20.xlsx\"\n",
    "excel_file = pd.ExcelFile(os.path.join(excel_filePath, excel_fileName), engine='openpyxl')\n",
    "guiData_DFM_csv = os.path.join(excel_filePath, 'DFM', 'GuiData', 'Data_DFM.csv')\n",
    "if not os.path.exists(os.path.join(excel_filePath, 'DFM', 'GuiData')):\n",
    "    os.makedirs(os.path.join(excel_filePath, 'DFM', 'GuiData'))\n",
    "data_DFM_csv = os.path.join(excel_filePath, 'DFM', 'Data', 'Data_DFM.csv')\n",
    "if not os.path.exists(os.path.join(excel_filePath, 'DFM', 'Data')):\n",
    "    os.makedirs(os.path.join(excel_filePath, 'DFM', 'Data'))\n",
    " \n",
    "xls = pd.ExcelFile(excel_file, engine='openpyxl')\n",
    "df1 = pd.read_excel(xls, 'DATA')\n",
    "df2 = pd.read_excel(xls, 'GUI_DATA')\n",
    " \n",
    "# add key\n",
    "keyFieldList = ['M_NB','M_LEG','M_FLOW_TYPE','M_CALC_START_DATE','M_CUR']\n",
    "#\n",
    "df1['M_FLOW_TYPE'] = df1['M_FLOW_TYPE'].str.rstrip()\n",
    "df1['M_CALC_START_DATE'] = pd.to_datetime(df1['M_CALC_START_DATE'].astype(str), format='%Y-%m-%d').dt.date\n",
    "df1['M_CALC_END_DATE'] = pd.to_datetime(df1['M_CALC_END_DATE'].astype(str), format='%Y-%m-%d').dt.date\n",
    "aFixingDate = np.array(df1['M_FIXING_DATE'])\n",
    "for i in range(len(aFixingDate)):\n",
    "    if aFixingDate[i] == '<null>':\n",
    "        aFixingDate[i] = ''\n",
    "df1['M_FIXING_DATE'] = aFixingDate\n",
    "df1['M_FIXING_DATE'] = pd.to_datetime(df1['M_FIXING_DATE'].astype(str), format='%Y-%m-%d').dt.date\n",
    "df1['M_PAYMENT_DATE'] = pd.to_datetime(df1['M_PAYMENT_DATE'].astype(str), format='%Y-%m-%d').dt.date\n",
    "df1['M_REMAINING_CAPITAL'] = df1['M_REMAINING_CAPITAL'].abs()\n",
    "reconKey = df1[keyFieldList].replace(np.nan, '').astype(str).agg('#'.join, axis=1)\n",
    "idx = 1\n",
    "df1.insert(loc=idx, column='RECON_KEY', value=reconKey)\n",
    "df1 = pd.DataFrame(df1[['RECON_KEY','M_NB','M_LEG','M_FLOW_TYPE','M_CALC_START_DATE',\n",
    "                              'M_CALC_END_DATE','M_REMAINING_CAPITAL','M_FIXING_DATE','M_RATE','M_MARGIN',\n",
    "                              'M_RATE_FACTOR','M_PAYMENT_DATE','M_FLOWS','M_CUR']])\n",
    "#\n",
    "# data from flow schedule screen show 1931 instead of 2031 when taken with copy paste from flow screen\n",
    "df2['M_CALC_START_DATE'] = addHundredYearsToDate(df2['M_CALC_START_DATE'])\n",
    "df2['M_CALC_END_DATE'] = addHundredYearsToDate(df2['M_CALC_END_DATE'])\n",
    "df2['M_FIXING_DATE'] = addHundredYearsToDate(df2['M_FIXING_DATE'])\n",
    "df2['M_PAYMENT_DATE'] = addHundredYearsToDate(df2['M_PAYMENT_DATE'])\n",
    "reconKey = df2[keyFieldList].replace(np.nan, '').astype(str).agg('#'.join, axis=1)\n",
    "idx = 1\n",
    "df2.insert(loc=idx, column='RECON_KEY', value=reconKey)\n",
    "df2 = pd.DataFrame(df2[['RECON_KEY','M_NB','M_LEG','M_FLOW_TYPE','M_CALC_START_DATE',\n",
    "                              'M_CALC_END_DATE','M_REMAINING_CAPITAL','M_FIXING_DATE','M_RATE','M_MARGIN',\n",
    "                              'M_RATE_FACTOR','M_PAYMENT_DATE','M_FLOWS','M_CUR']])\n",
    " \n",
    " \n",
    "#print(df2)\n",
    "df1.to_csv(data_DFM_csv, sep=\";\", index=False)\n",
    "df2.to_csv(guiData_DFM_csv, sep=\";\", index=False)\n",
    "\n",
    "\n",
    "\n",
    "print(\"Done\")\n",
    " "
   ]
  },
  {
   "cell_type": "code",
   "execution_count": null,
   "id": "75c6b1b2",
   "metadata": {},
   "outputs": [],
   "source": []
  }
 ],
 "metadata": {
  "kernelspec": {
   "display_name": "Python 3",
   "language": "python",
   "name": "python3"
  },
  "language_info": {
   "codemirror_mode": {
    "name": "ipython",
    "version": 3
   },
   "file_extension": ".py",
   "mimetype": "text/x-python",
   "name": "python",
   "nbconvert_exporter": "python",
   "pygments_lexer": "ipython3",
   "version": "3.6.13"
  }
 },
 "nbformat": 4,
 "nbformat_minor": 5
}
