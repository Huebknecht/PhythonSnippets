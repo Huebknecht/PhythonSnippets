{
 "cells": [
  {
   "cell_type": "code",
   "execution_count": 10,
   "metadata": {},
   "outputs": [
    {
     "name": "stdout",
     "output_type": "stream",
     "text": [
      "15\n"
     ]
    }
   ],
   "source": [
    "\n",
    "# dependency\n",
    "from functools import reduce\n",
    "\n",
    "# data\n",
    "s = (1, 2, 3, 4, 5)\n",
    "\n",
    "# one-liner\n",
    "# all operations are performed on the first element of the list\n",
    "plus = reduce(lambda x, y: x + y, [0, 1, 2, 3, 4, 5])\n",
    "\n",
    "minus = reduce(lambda x, y: x - y, [15, 1, 2, 3, 4])\n",
    "\n",
    "multiplication = reduce(lambda x, y: x * y, [1, 2, 3, 4, 5])\n",
    "\n",
    "# call\n",
    "print(plus)\n",
    "#print(minus)\n",
    "#print(multiplication)\n",
    "\n",
    "\n"
   ]
  },
  {
   "cell_type": "code",
   "execution_count": null,
   "metadata": {
    "collapsed": true
   },
   "outputs": [],
   "source": []
  }
 ],
 "metadata": {
  "kernelspec": {
   "display_name": "Python 3",
   "language": "python",
   "name": "python3"
  },
  "language_info": {
   "codemirror_mode": {
    "name": "ipython",
    "version": 3
   },
   "file_extension": ".py",
   "mimetype": "text/x-python",
   "name": "python",
   "nbconvert_exporter": "python",
   "pygments_lexer": "ipython3",
   "version": "3.6.13"
  }
 },
 "nbformat": 4,
 "nbformat_minor": 2
}
