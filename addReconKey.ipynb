{
 "cells": [
  {
   "cell_type": "code",
   "execution_count": 1,
   "metadata": {},
   "outputs": [
    {
     "name": "stdout",
     "output_type": "stream",
     "text": [
      "Done\n"
     ]
    }
   ],
   "source": [
    "##addReconkey\n",
    "\n",
    "import pandas as pd\n",
    "import glob\n",
    "import ast\n",
    "import numpy as np\n",
    "import os\n",
    "import re\n",
    "\n",
    "def addReconKey(inFile, outFile, keyFieldList):\n",
    "    \"\"\"\n",
    "    addReconKey\n",
    "    inserts unique key at first position based on reconKey file specification  \n",
    "    \"\"\"\n",
    "    #print(\"inFile : %s\" % inFile)\n",
    "    # csv_input = pd.read_csv(open(inFile, encoding=\"utf8\", errors='ignore'), skiprows=[1], sep=\"|\")\n",
    "    csv_input = pd.read_csv(open(inFile, encoding=\"utf8\", errors='ignore'), sep=\"|\")\n",
    "    # drop row with condition\n",
    "    # csv_input.drop(csv_input[csv_input[keyFieldList[0]] < 5].index, inplace = True)\n",
    "    #reconKey = csv_input[['U2', 'U3']].astype(str).agg('#'.join, axis=1)\n",
    "    try:\n",
    "        reconKeyDirty = csv_input[keyFieldList].replace(np.nan, '').astype(str).agg('#'.join, axis=1)\n",
    "        reconKey = [ re.sub(r\".0#\", \"#\", e) for e in reconKeyDirty ]\n",
    "    except:\n",
    "        print('sory, no match with key field list: %s for file %s' % (keyFieldList, inFile) )\n",
    "        return 1\n",
    "    idx = 0\n",
    "    csv_input.insert(loc=idx, column='RECON_KEY', value=reconKey)\n",
    "    if os.path.exists(outFile):\n",
    "        os.remove(outFile)\n",
    "    csv_input.to_csv(outFile, sep=\";\", index=False)\n",
    "\n",
    "def readConfigFiles(reconKeyFile):\n",
    "    # print(\"Reading congig files : %s\\n\" % (reconKeyFile))\n",
    "    reconKeyDic = {}\n",
    "    fileReconKeyDic = open(reconKeyFile, \"r\", encoding=\"utf8\", errors='ignore')\n",
    "    contents = fileReconKeyDic.read()\n",
    "    reconKeyDic = ast.literal_eval(contents)\n",
    "    fileReconKeyDic.close()\n",
    "    # print(type(reconKeyDic))\n",
    "    # print(reconKeyDic)\n",
    "    return reconKeyDic\n",
    "\n",
    "reconKeyDic = {}\n",
    "reconKeyList = []\n",
    "reconKeyFilePath = '/Users/e5527h6/Documents/Programming/python/HlbRecon_MX3_1Plus/config/reconKey.dic'\n",
    "# MX3\n",
    "inPath = '/Users/e5527h6/Documents/Programming/data/MCC'\n",
    "csvPath = os.path.join(inPath, '*.csv')\n",
    "outPath = os.path.join(inPath, 'Out')\n",
    "#for filename in os.listdir(inPath):\n",
    "for filename in glob.glob(csvPath):\n",
    "    #print(\"filename : %s\" % filename)\n",
    "    #inFilePath = os.path.join(inPath, filename)\n",
    "    inFilePath = filename\n",
    "   # keyFieldList = ['U2', 'U3', 'U4']\n",
    "    cleanNameInFile = re.sub(r\"_\\d+.csv$\", \".csv\", os.path.basename(filename))\n",
    "    outFilePath = os.path.join(outPath, cleanNameInFile)\n",
    "    reconKeyDic = readConfigFiles(reconKeyFilePath)\n",
    "    if cleanNameInFile in reconKeyDic:\n",
    "        keyFieldList = reconKeyDic[cleanNameInFile]\n",
    "    else:\n",
    "        print(\"File : %s not in reconKeyDic\" % cleanNameInFile)\n",
    "        continue\n",
    "    addReconKey(inFilePath, outFilePath, keyFieldList)\n",
    "   \n",
    "print('Done')\n"
   ]
  },
  {
   "cell_type": "code",
   "execution_count": null,
   "metadata": {},
   "outputs": [],
   "source": []
  },
  {
   "cell_type": "code",
   "execution_count": null,
   "metadata": {},
   "outputs": [],
   "source": []
  },
  {
   "cell_type": "code",
   "execution_count": null,
   "metadata": {},
   "outputs": [],
   "source": []
  }
 ],
 "metadata": {
  "kernelspec": {
   "display_name": "Python 3",
   "language": "python",
   "name": "python3"
  },
  "language_info": {
   "codemirror_mode": {
    "name": "ipython",
    "version": 3
   },
   "file_extension": ".py",
   "mimetype": "text/x-python",
   "name": "python",
   "nbconvert_exporter": "python",
   "pygments_lexer": "ipython3",
   "version": "3.6.13"
  }
 },
 "nbformat": 4,
 "nbformat_minor": 2
}
